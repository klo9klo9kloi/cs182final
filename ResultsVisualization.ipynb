{
 "cells": [
  {
   "cell_type": "code",
   "execution_count": 7,
   "metadata": {},
   "outputs": [
    {
     "name": "stdout",
     "output_type": "stream",
     "text": [
      "The autoreload extension is already loaded. To reload it, use:\n",
      "  %reload_ext autoreload\n"
     ]
    }
   ],
   "source": [
    "%load_ext autoreload\n",
    "%autoreload 2\n",
    "\n",
    "# Ensure your Python version makes sense\n",
    "import sys\n",
    "sys.version\n",
    "\n",
    "import matplotlib.pyplot as plt\n",
    "plt.style.use('seaborn-darkgrid')\n",
    "import seaborn as sns\n",
    "sns.set_style(\"darkgrid\")\n",
    "%matplotlib inline\n",
    "\n",
    "import pandas as pd\n",
    "import json, os\n",
    "\n",
    "\n",
    "def plot(logdir, env, timesteps, trials):\n",
    "    fig = plt.figure(figsize=(9,7))\n",
    "    \n",
    "    methods = {}\n",
    "    dataframes = []\n",
    "    i = 0\n",
    "    \n",
    "    for path in trials:\n",
    "        full_path = os.path.join(logdir, path)\n",
    "        log_path = os.path.join(full_path,'log.txt')\n",
    "        name = path.split('_')[0]\n",
    "        data = pd.read_csv(log_path, sep='\\t')  # in favor of this\n",
    "        trial_data = pd.DataFrame({\"Steps\": data['Steps'] / 1e6, \"Avg_Last_100_Episodes\": data['Avg_Last_100_Episodes']})\n",
    "        if name in methods:\n",
    "             dataframes[methods[name]] = pd.concat([dataframes[methods[name]], trial_data], \n",
    "                                                 axis=0)\n",
    "        else:\n",
    "            dataframes.append(trial_data)\n",
    "            methods[name] = i\n",
    "            i += 1\n",
    "            \n",
    "    for name in methods:\n",
    "        all_trial_data = dataframes[methods[name]]\n",
    "        sns.lineplot(all_trial_data['Steps'], all_trial_data['Avg_Last_100_Episodes'], lw=2, label=name)\n",
    "\n",
    "    # Bells and whistles\n",
    "    plt.tick_params(axis='x', labelsize=18)\n",
    "    plt.tick_params(axis='y', labelsize=18)\n",
    "    plt.legend(loc='best', fontsize=20)\n",
    "    plt.xlabel('Training Steps (in Millions)', fontsize=20)\n",
    "    plt.ylabel('Avg Last 100 Episodes', fontsize=20)\n",
    "    plt.title('{} {}'.format(env, timesteps), fontsize=24)\n",
    "    plt.tight_layout()\n",
    "    plt.show()"
   ]
  },
  {
   "cell_type": "code",
   "execution_count": 12,
   "metadata": {},
   "outputs": [],
   "source": [
    "# for 100K timesteps\n",
    "# trials = [\n",
    "#     'dqn_fruitbot_27-04-2020_14-46-20'\n",
    "# ]\n",
    "\n",
    "# plot(logdir='data_dqn', env='fruitbot', timesteps=\"100K\", trials=trials)"
   ]
  },
  {
   "cell_type": "code",
   "execution_count": 11,
   "metadata": {},
   "outputs": [],
   "source": [
    "# 500K timesteps\n",
    "# trials = [\n",
    "#    'dqn_fruitbot_27-04-2020_15-22-46'\n",
    "# ]\n",
    "\n",
    "# plot(logdir='data_dqn', env='coinrun', timesteps=\"500K\", trials=trials)\n",
    "\n",
    "    "
   ]
  },
  {
   "cell_type": "code",
   "execution_count": 10,
   "metadata": {},
   "outputs": [],
   "source": [
    "# 50M timesteps"
   ]
  },
  {
   "cell_type": "code",
   "execution_count": null,
   "metadata": {},
   "outputs": [],
   "source": []
  }
 ],
 "metadata": {
  "kernelspec": {
   "display_name": "Python 3",
   "language": "python",
   "name": "python3"
  },
  "language_info": {
   "codemirror_mode": {
    "name": "ipython",
    "version": 3
   },
   "file_extension": ".py",
   "mimetype": "text/x-python",
   "name": "python",
   "nbconvert_exporter": "python",
   "pygments_lexer": "ipython3",
   "version": "3.6.9"
  }
 },
 "nbformat": 4,
 "nbformat_minor": 2
}
